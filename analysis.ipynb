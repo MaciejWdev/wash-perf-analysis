{
 "cells": [
  {
   "cell_type": "code",
   "execution_count": 19,
   "metadata": {},
   "outputs": [],
   "source": [
    "# Libraries\n",
    "import pandas as pd\n",
    "import numpy as np\n",
    "import matplotlib.pyplot as plt\n",
    "import glob\n",
    "# Colour Scheme\n",
    "plt.style.use('seaborn-darkgrid')\n",
    "# dark style colours\n",
    "plt.rcParams[\"image.cmap\"] = \"Dark2\"\n",
    "plt.rcParams['axes.prop_cycle'] = plt.cycler(color=plt.cm.Dark2.colors)"
   ]
  },
  {
   "cell_type": "code",
   "execution_count": 20,
   "metadata": {},
   "outputs": [],
   "source": [
    "# Load Data\n",
    "sph_exa = ['sphexa']\n",
    "sedov_versions = ['sedov_wone',\n",
    "            'sedov_cstone',\n",
    "            'sedov_west',\n",
    "            'sedov_wisb',\n",
    "            'sedov_wser',]\n",
    "\n",
    "outputdir = \"./out/\"\n",
    "\n"
   ]
  },
  {
   "cell_type": "code",
   "execution_count": 21,
   "metadata": {},
   "outputs": [
    {
     "name": "stdout",
     "output_type": "stream",
     "text": [
      "sedov_wone\n",
      "File not found: slurm-.out\n",
      "File not found: slurm-.out\n",
      "File not found: slurm-.out\n",
      "File not found: slurm-.out\n",
      "File not found: slurm-.out\n",
      "sedov_cstone\n",
      "Is a directory: \n",
      "sedov_west\n",
      "sedov_wisb\n",
      "File not found: slurm-872832.out\n",
      "sedov_wser\n",
      "sphexa\n",
      "[['sedov_wone', 30, 27000, 100.0, 2, 38.08, 1], ['sedov_wone', 30, 27000, 100.0, 8, 28.97, 1], ['sedov_wone', 30, 27000, 100.0, 32, 30.68, 1], ['sedov_wone', 20, 8000, 100.0, 4, 0.0, 1], ['sedov_wone', 20, 8000, 100.0, 8, 0.0, 1], ['sedov_wone', 30, 27000, 100.0, 40, 30.04, 1], ['sedov_wone', 30, 27000, 100.0, 1, 53.78, 1], ['sedov_wone', 30, 27000, 100.0, 16, 26.2, 1], ['sedov_wone', 20, 8000, 100.0, 16, 0.0, 1], ['sedov_wone', 20, 8000, 100.0, 40, 0.0, 1], ['sedov_wone', 30, 27000, 100.0, 4, 31.75, 1], ['sedov_wone', 20, 8000, 100.0, 32, 0.0, 1], ['sedov_cstone', 30, 27000, 100.0, 2, 180.81, 1], ['sedov_cstone', 30, 27000, 100.0, 8, 70.79, 1], ['sedov_cstone', 30, 27000, 100.0, 32, 54.81, 1], ['sedov_cstone', 20, 8000, 100.0, 4, 34.76, 3], ['sedov_cstone', 20, 8000, 100.0, 8, 24.246666666666666, 3], ['sedov_cstone', 30, 27000, 100.0, 40, 52.22, 1], ['sedov_cstone', 30, 27000, 100.0, 1, 332.66, 1], ['sedov_cstone', 20, 8000, 100.0, 1, 101.0075, 4], ['sedov_cstone', 30, 27000, 100.0, 16, 51.46, 1], ['sedov_cstone', 20, 8000, 100.0, 16, 16.933333333333334, 3], ['sedov_cstone', 20, 8000, 100.0, 40, 18.23, 3], ['sedov_cstone', 20, 8000, 30.0, 16, 5.45, 2], ['sedov_cstone', 20, 8000, 100.0, 2, 54.91, 2], ['sedov_cstone', 30, 27000, 100.0, 4, 105.32, 1], ['sedov_cstone', 40, 64000, 30.0, 16, 31.365, 2], ['sedov_cstone', 20, 8000, 100.0, 32, 15.943999999999999, 5], ['sedov_west', 20, 8000, 100.0, 4, 52.47, 2], ['sedov_west', 20, 8000, 100.0, 8, 52.35, 1], ['sedov_west', 30, 27000, 100.0, 40, nan, 0], ['sedov_west', 30, 27000, 100.0, 1, nan, 0], ['sedov_west', 20, 8000, 100.0, 1, 57.23, 1], ['sedov_west', 20, 8000, 100.0, 16, 52.22, 1], ['sedov_west', 20, 8000, 100.0, 40, 57.99, 1], ['sedov_west', 20, 8000, 100.0, 2, 53.58, 1], ['sedov_west', 20, 8000, 100.0, 32, 58.4, 1], ['sedov_wisb', 30, 27000, 100.0, 8, nan, 0], ['sedov_wisb', 30, 27000, 100.0, 32, nan, 0], ['sedov_wisb', 20, 8000, 100.0, 4, nan, 0], ['sedov_wisb', 20, 8000, 100.0, 8, nan, 0], ['sedov_wisb', 30, 27000, 100.0, 40, nan, 0], ['sedov_wisb', 30, 27000, 100.0, 1, nan, 0], ['sedov_wisb', 30, 27000, 100.0, 16, nan, 0], ['sedov_wisb', 20, 8000, 100.0, 16, nan, 0], ['sedov_wisb', 20, 8000, 100.0, 40, nan, 0], ['sedov_wisb', 30, 27000, 100.0, 4, nan, 0], ['sedov_wisb', 20, 8000, 100.0, 32, nan, 0], ['sedov_wser', 30, 27000, 100.0, 8, 927.54, 1], ['sedov_wser', 30, 27000, 100.0, 32, 877.58, 1], ['sedov_wser', 30, 27000, 100.0, 40, 858.34, 1], ['sedov_wser', 30, 27000, 100.0, 16, 874.31, 1], ['sedov_wser', 30, 27000, 100.0, 4, 1072.36, 1], ['sphexa', 30, 27000, 100.0, 2, 14.22, 1], ['sphexa', 30, 27000, 100.0, 8, 4.2, 1], ['sphexa', 30, 27000, 100.0, 32, 2.26, 1], ['sphexa', 20, 8000, 100.0, 4, 2.5999999999999996, 2], ['sphexa', 20, 8000, 100.0, 8, 1.6099999999999999, 2], ['sphexa', 30, 27000, 100.0, 40, 1.95, 1], ['sphexa', 30, 27000, 100.0, 1, 27.72, 1], ['sphexa', 20, 8000, 100.0, 1, 8.8, 1], ['sphexa', 30, 27000, 100.0, 16, 2.4699999999999998, 2], ['sphexa', 20, 8000, 100.0, 16, 1.085, 2], ['sphexa', 20, 8000, 100.0, 40, 0.87, 2], ['sphexa', 20, 8000, 100.0, 2, 4.7, 1], ['sphexa', 30, 27000, 100.0, 4, 7.38, 1], ['sphexa', 20, 8000, 100.0, 32, 0.94, 1]]\n"
     ]
    },
    {
     "name": "stderr",
     "output_type": "stream",
     "text": [
      "/dcs/20/u2054054/.local/lib/python3.6/site-packages/numpy/core/fromnumeric.py:3373: RuntimeWarning: Mean of empty slice.\n",
      "  out=out, **kwargs)\n",
      "/dcs/20/u2054054/.local/lib/python3.6/site-packages/numpy/core/_methods.py:170: RuntimeWarning: invalid value encountered in double_scalars\n",
      "  ret = ret.dtype.type(ret / rcount)\n"
     ]
    }
   ],
   "source": [
    "allresults = []\n",
    "# Read file line by line\n",
    "for sedov_version in sedov_versions + sph_exa:\n",
    "    print(sedov_version)\n",
    "    dir = outputdir + sedov_version + \"/\"\n",
    "    configs = glob.glob(dir + \"*.txt\")\n",
    "    # From all the configs with data on them in the directory, read in their times\n",
    "    for config in configs:\n",
    "        with open(config) as f:\n",
    "            lines = f.readlines()\n",
    "            lines = [line.strip() for line in lines]\n",
    "            times = []\n",
    "            for line in lines:\n",
    "                # Check file exists\n",
    "                try:\n",
    "                    with open(outputdir + \"slurms/\" + line) as f2:\n",
    "                        lines2 = f2.readlines()\n",
    "                        lines2 = [line2.strip() for line2 in lines2]\n",
    "                        if len(lines2) > 0:\n",
    "                            times.append(lines2[0])\n",
    "                except FileNotFoundError:\n",
    "                    print(\"File not found: \" + line)\n",
    "                except IsADirectoryError:\n",
    "                    print(\"Is a directory: \" + line)\n",
    "\n",
    "            config_split = config.split(\"-\")\n",
    "            n_particles = int(config_split[0].split(\"/\")[-1])\n",
    "            totalparticles = n_particles * n_particles * n_particles\n",
    "            timestep = float(config_split[1])\n",
    "            threads = int(config_split[2])\n",
    "            avgtime = np.mean([float(time) for time in times])\n",
    "            trials = len(times)\n",
    "            allresults.append([sedov_version,n_particles,totalparticles,timestep,threads,avgtime,trials])\n",
    "        \n",
    "print(allresults)"
   ]
  },
  {
   "cell_type": "code",
   "execution_count": 22,
   "metadata": {},
   "outputs": [
    {
     "name": "stdout",
     "output_type": "stream",
     "text": [
      "       Version  n_particles  Total Particles  Timestep  Threads  AvgTime  \\\n",
      "0   sedov_wone           30            27000     100.0        2   38.080   \n",
      "1   sedov_wone           30            27000     100.0        8   28.970   \n",
      "2   sedov_wone           30            27000     100.0       32   30.680   \n",
      "3   sedov_wone           20             8000     100.0        4    0.000   \n",
      "4   sedov_wone           20             8000     100.0        8    0.000   \n",
      "..         ...          ...              ...       ...      ...      ...   \n",
      "62      sphexa           20             8000     100.0       16    1.085   \n",
      "63      sphexa           20             8000     100.0       40    0.870   \n",
      "64      sphexa           20             8000     100.0        2    4.700   \n",
      "65      sphexa           30            27000     100.0        4    7.380   \n",
      "66      sphexa           20             8000     100.0       32    0.940   \n",
      "\n",
      "    Trials  \n",
      "0        1  \n",
      "1        1  \n",
      "2        1  \n",
      "3        1  \n",
      "4        1  \n",
      "..     ...  \n",
      "62       2  \n",
      "63       2  \n",
      "64       1  \n",
      "65       1  \n",
      "66       1  \n",
      "\n",
      "[67 rows x 7 columns]\n"
     ]
    }
   ],
   "source": [
    "allresults = pd.DataFrame(allresults)\n",
    "allresults.columns = ['Version','n_particles','Total Particles','Timestep','Threads','AvgTime','Trials']\n",
    "print(allresults)"
   ]
  },
  {
   "cell_type": "code",
   "execution_count": 25,
   "metadata": {},
   "outputs": [
    {
     "name": "stderr",
     "output_type": "stream",
     "text": [
      "/dcs/20/u2054054/.local/lib/python3.6/site-packages/ipykernel_launcher.py:10: MatplotlibDeprecationWarning: Case-insensitive properties were deprecated in 3.3 and support will be removed two minor releases later\n",
      "  # Remove the CWD from sys.path while we load stuff.\n",
      "/dcs/20/u2054054/.local/lib/python3.6/site-packages/ipykernel_launcher.py:10: MatplotlibDeprecationWarning: Case-insensitive properties were deprecated in 3.3 and support will be removed two minor releases later\n",
      "  # Remove the CWD from sys.path while we load stuff.\n",
      "/dcs/20/u2054054/.local/lib/python3.6/site-packages/ipykernel_launcher.py:10: MatplotlibDeprecationWarning: Case-insensitive properties were deprecated in 3.3 and support will be removed two minor releases later\n",
      "  # Remove the CWD from sys.path while we load stuff.\n",
      "/dcs/20/u2054054/.local/lib/python3.6/site-packages/ipykernel_launcher.py:10: MatplotlibDeprecationWarning: Case-insensitive properties were deprecated in 3.3 and support will be removed two minor releases later\n",
      "  # Remove the CWD from sys.path while we load stuff.\n",
      "/dcs/20/u2054054/.local/lib/python3.6/site-packages/ipykernel_launcher.py:10: MatplotlibDeprecationWarning: Case-insensitive properties were deprecated in 3.3 and support will be removed two minor releases later\n",
      "  # Remove the CWD from sys.path while we load stuff.\n"
     ]
    },
    {
     "data": {
      "image/png": "[encoded data removed]",
      "text/plain": [
       "<Figure size 576x576 with 1 Axes>"
      ]
     },
     "metadata": {},
     "output_type": "display_data"
    }
   ],
   "source": [
    "def strong_scaling_plot(df, versions,sizes=[20],time=100):\n",
    "    # subplot for each size\n",
    "\n",
    "    for size in sizes:\n",
    "        for version in versions:\n",
    "            data = df[df['Version'] == version]\n",
    "            data = data[data['n_particles'] == size]\n",
    "            data = data[data['Timestep'] == time]\n",
    "            data = data.sort_values(by='Threads')\n",
    "            plt.plot(data['Threads'], data['AvgTime'], label=version,lineWidth=2.5)\n",
    "        # larger size\n",
    "        plt.rcParams[\"figure.figsize\"] = (8,8)\n",
    "        plt.xlabel('Threads')\n",
    "        plt.ylabel('Avg Time')\n",
    "        plt.yscale('log')\n",
    "        plt.xscale('log')\n",
    "        plt.grid(True)\n",
    "        # equal axes\n",
    "        plt.axis('equal')\n",
    "        plt.title(f'Strong Scaling {size} particles, {time} timestep')\n",
    "        plt.legend()\n",
    "        plt.show()\n",
    "\n",
    "strong_scaling_plot(allresults, ['sedov_west','sedov_wisb','sedov_cstone','sphexa','sedov_wone'],sizes=[30],time=100)"
   ]
  }
 ],
 "metadata": {
  "kernelspec": {
   "display_name": "Python 3",
   "language": "python",
   "name": "python3"
  },
  "language_info": {
   "codemirror_mode": {
    "name": "ipython",
    "version": 3
   },
   "file_extension": ".py",
   "mimetype": "text/x-python",
   "name": "python",
   "nbconvert_exporter": "python",
   "pygments_lexer": "ipython3",
   "version": "3.6.8"
  }
 },
 "nbformat": 4,
 "nbformat_minor": 2
}
